{
 "cells": [
  {
   "cell_type": "code",
   "execution_count": 8,
   "metadata": {},
   "outputs": [
    {
     "name": "stdout",
     "output_type": "stream",
     "text": [
      "The autoreload extension is already loaded. To reload it, use:\n",
      "  %reload_ext autoreload\n"
     ]
    }
   ],
   "source": [
    "%load_ext autoreload\n",
    "%autoreload 2\n",
    "\n",
    "from MarkovDecisionProcess import MarkovDecisionProcess\n",
    "from PolicyNetwork import PolicyNetwork\n",
    "from ValueNetwork import ValueNetwork\n",
    "from simulation import simulate\n",
    "\n",
    "import numpy as np\n",
    "import random\n",
    "import torch"
   ]
  },
  {
   "cell_type": "code",
   "execution_count": 9,
   "metadata": {},
   "outputs": [],
   "source": [
    "def transition_function(state, action):\n",
    "    new_state = state + action\n",
    "    return new_state\n",
    "\n",
    "def reward_function(state, action):\n",
    "    if np.array_equal(action, np.array([1,1])):\n",
    "        reward = 1\n",
    "    else:\n",
    "        reward = -1\n",
    "    \n",
    "    return reward\n",
    "\n",
    "def policy_function(state):\n",
    "    random_number = random.uniform(0,1)\n",
    "    \n",
    "    if random_number > 0.5:\n",
    "        action = np.array([1,1])\n",
    "    else:\n",
    "        action = np.array([-1,-1])\n",
    "    \n",
    "    return action"
   ]
  },
  {
   "cell_type": "code",
   "execution_count": 10,
   "metadata": {},
   "outputs": [],
   "source": [
    "example = MarkovDecisionProcess(state=np.array([0,0]),\n",
    "                                action=np.array([0,0]),\n",
    "                                transition_func=transition_function,\n",
    "                                reward_func=reward_function,\n",
    "                                T=100)"
   ]
  },
  {
   "cell_type": "code",
   "execution_count": 11,
   "metadata": {},
   "outputs": [],
   "source": [
    "simulate(example, policy_function)"
   ]
  },
  {
   "cell_type": "code",
   "execution_count": 12,
   "metadata": {},
   "outputs": [
    {
     "name": "stdout",
     "output_type": "stream",
     "text": [
      "Current state: [6 6] \n",
      "Current action: [-1 -1] \n",
      "Current reward: -1 \n",
      "Transition function: transition_function(state, action) \n",
      "Reward function: reward_function(state, action)\n"
     ]
    }
   ],
   "source": [
    "print(example)"
   ]
  },
  {
   "cell_type": "code",
   "execution_count": 15,
   "metadata": {},
   "outputs": [
    {
     "name": "stdout",
     "output_type": "stream",
     "text": [
      "Value: tensor([-0.5032], grad_fn=<AddBackward0>)\n",
      "Mean: tensor([-0.9241,  0.5871], grad_fn=<AddBackward0>)\n",
      "Std: tensor([0.7045, 1.1391], grad_fn=<ExpBackward0>)\n",
      "Mean shape: torch.Size([2])\n",
      "Std shape: torch.Size([2])\n"
     ]
    }
   ],
   "source": [
    "value_net = ValueNetwork(example)\n",
    "policy_net = PolicyNetwork(example)\n",
    "\n",
    "dummy_state = torch.randn(len(example.get_state()))\n",
    "\n",
    "value = value_net(dummy_state)\n",
    "mean, std = policy_net(dummy_state)\n",
    "\n",
    "# Check output shapes\n",
    "print(\"Value:\", value)\n",
    "print(\"Mean:\", mean)\n",
    "print(\"Std:\", std)\n",
    "print(\"Mean shape:\", mean.shape)\n",
    "print(\"Std shape:\", std.shape)\n"
   ]
  }
 ],
 "metadata": {
  "kernelspec": {
   "display_name": "base",
   "language": "python",
   "name": "python3"
  },
  "language_info": {
   "codemirror_mode": {
    "name": "ipython",
    "version": 3
   },
   "file_extension": ".py",
   "mimetype": "text/x-python",
   "name": "python",
   "nbconvert_exporter": "python",
   "pygments_lexer": "ipython3",
   "version": "3.11.5"
  }
 },
 "nbformat": 4,
 "nbformat_minor": 2
}
